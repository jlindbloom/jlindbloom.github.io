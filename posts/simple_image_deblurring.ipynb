{
 "cells": [
  {
   "cell_type": "markdown",
   "metadata": {},
   "source": [
    "---\n",
    "title: A Simple Image De-blurring Example\n",
    "description: Fun with BCCB matrices.\n",
    "date: 7/5/2022\n",
    "draft: false\n",
    "bibliography: references.bib\n",
    "csl: annals_statistics.csl\n",
    "format:\n",
    "  html:\n",
    "    code-fold: true\n",
    "---"
   ]
  },
  {
   "cell_type": "markdown",
   "metadata": {},
   "source": [
    "The goal of this post is to write some code for solving a simple image de-blurring problem."
   ]
  },
  {
   "cell_type": "markdown",
   "metadata": {},
   "source": [
    "# Problem Setup\n",
    "\n",
    "We will start by converting the following 3024 x 4032 pixel image of the Grand Canyon\n",
    "\n",
    "![](grand_canyon.jpg)\n",
    "\n",
    "to grayscale to get \n",
    "\n",
    "![](grayscale_grand_canyon.jpg)"
   ]
  },
  {
   "cell_type": "markdown",
   "metadata": {},
   "source": [
    "and then apply a Gaussian blur to get\n",
    "\n",
    "![](blurred_grand_canyon.jpg)"
   ]
  },
  {
   "cell_type": "code",
   "execution_count": 1,
   "metadata": {},
   "outputs": [],
   "source": [
    "import numpy as np\n",
    "from scipy.ndimage import gaussian_filter\n",
    "from PIL import Image, ImageOps\n",
    "\n",
    "# Load image\n",
    "img = Image.open(\"grand_canyon.jpg\")\n",
    "img = ImageOps.grayscale(img)\n",
    "img = np.asarray(img)\n",
    "img = img/255\n",
    "M, N = img.shape\n",
    "\n",
    "im = Image.fromarray(255*img)\n",
    "im = im.convert('RGB')\n",
    "im.save(\"grayscale_grand_canyon.jpg\")\n",
    "\n",
    "# Define blur operator using sigma\n",
    "blur_sigma = 20.0\n",
    "blur_op = lambda x: gaussian_filter(x, blur_sigma, mode='wrap')\n",
    "\n",
    "# Apply blur and save\n",
    "blurred_img = blur_op(img)\n",
    "im = Image.fromarray(255*blurred_img)\n",
    "im = im.convert('RGB')\n",
    "im.save(\"blurred_grand_canyon.jpg\")"
   ]
  },
  {
   "cell_type": "markdown",
   "metadata": {},
   "source": [
    "# BCCB Blurring\n",
    "\n",
    "Let's describe what we just did. We began with an initial image $x$, and then applied a Gaussian blurring operator $A$ to obtain the observation\n",
    "$$\n",
    "y = A x.\n",
    "$$\n",
    "Note that the blurring is a linear operator and thus can be represented by a matrix $A$, even though we never actually form the matrix $A$. Note that we have also used the `mode = 'wrap'` option, which specifies a periodic boundary condition for the blurring. We choose this because this choice makes $A$ a block circulant with circulant blocks (BCCB) matrix, which have several nice properties. One such property is that we can diagonalize the matrix $A$ via the two-dimensional discrete Fourier transform, i.e., \n",
    "$$\n",
    "A = F^H  \\Lambda  F\n",
    "$$\n",
    "where $\\Lambda$ is a diagonal matrix. This makes solving systems involving $A$ fairly straightforward and cheap to do.\n",
    "\n",
    "If we want to de-blur the image $y$, one thing we might try is to do\n",
    "$$\n",
    "x = A^{-1}  y.\n",
    "$$\n",
    "From our diagonalization and the fact that $F^{-1} = F^H$, we can compute this as\n",
    "$$\n",
    "\\begin{align*}\n",
    "x &= \\left( F^H  \\Lambda F \\right)^{-1} y \\\\\n",
    "&= F^H  \\Lambda^{-1}  F y.\n",
    "\\end{align*}\n",
    "$$\n",
    "But what is $\\Lambda^{-1}$? We can compute this by picking a random vector $v$, and doing elementwise division between $v$ and $F A F^H v$. Let's do this, and then use the result to compute $x = A^{-1} y$.\n",
    "\n",
    "<!-- \n",
    " If we want to obtain the de-blurred image $\\bm x$, we might try to compute\n",
    "$$\n",
    "\\bm x = \\bm A^{-1} \\bm y.\n",
    "$$ -->"
   ]
  },
  {
   "cell_type": "code",
   "execution_count": 2,
   "metadata": {},
   "outputs": [],
   "source": [
    "# Draw a random image\n",
    "rand_img = np.random.randn(M,N)\n",
    "mat_prod_rand_img = np.fft.fft2(blur_op(np.fft.ifft2(rand_img, norm='ortho')), norm='ortho')\n",
    "lam = mat_prod_rand_img/rand_img\n",
    "lam = np.real(lam) # We know it should be real\n",
    "lam_inv = 1/lam\n",
    "\n",
    "# Now use to invert, and save result\n",
    "x_approx = np.fft.ifft2(lam_inv*np.fft.fft2(blurred_img, norm='ortho'), norm='ortho')\n",
    "x_approx = np.real(x_approx)\n",
    "\n",
    "im = Image.fromarray(255*x_approx)\n",
    "im = im.convert('RGB')\n",
    "im.save(\"deblurred_grand_canyon_direct_inversion.jpg\")"
   ]
  },
  {
   "cell_type": "markdown",
   "metadata": {},
   "source": [
    "![](deblurred_grand_canyon_direct_inversion.jpg)"
   ]
  },
  {
   "cell_type": "markdown",
   "metadata": {},
   "source": [
    "So that actually worked out pretty well. In reality, our image would likely be contaminated by at least some small amount of noise. Let's see what happens if we apply our same inversion procedure to\n",
    "$$\n",
    "\\begin{align*}\n",
    "y &= A x + \\varepsilon, \\\\\n",
    "\\varepsilon &\\sim \\mathcal{N}\\left(0, \\sigma^2 I \\right)\n",
    "\\end{align*}\n",
    "$$\n",
    "with a comically small noise standard deviation of $\\sigma = 0.000000001$. Our new observation is\n",
    "\n",
    "![](noisy_blurred_grand_canyon.jpg)\n",
    "\n",
    "which is visually indistinguishable from our previous one with no noise added to the blurred image. However, if we compute $x = A^{-1} y$ in this case we obtain\n",
    "\n",
    "![](noisy_deblurred_grand_canyon_direct_inversion.jpg)\n",
    "\n",
    "which is nonsense.\n"
   ]
  },
  {
   "cell_type": "code",
   "execution_count": 3,
   "metadata": {},
   "outputs": [],
   "source": [
    "noise_sigma = 0.000000001\n",
    "\n",
    "# Add a little bit of noise and save\n",
    "np.random.seed(0) # Set seed\n",
    "noisy_blurred_img = blur_op(img) + noise_sigma*np.random.randn(M,N) \n",
    "\n",
    "im = Image.fromarray(255*noisy_blurred_img)\n",
    "im = im.convert('RGB')\n",
    "im.save(\"noisy_blurred_grand_canyon.jpg\")\n",
    "\n",
    "# Now invert using the same method as before and save result\n",
    "x_approx = np.fft.ifft2(lam_inv*np.fft.fft2(noisy_blurred_img, norm='ortho'), norm='ortho')\n",
    "x_approx = np.real(x_approx)\n",
    "\n",
    "im = Image.fromarray(255*x_approx)\n",
    "im = im.convert('RGB')\n",
    "im.save(\"noisy_deblurred_grand_canyon_direct_inversion.jpg\")"
   ]
  },
  {
   "cell_type": "markdown",
   "metadata": {},
   "source": [
    "The reason this happens is because although our blurring operator $A$ is invertible, it is extremely ill-conditioned and thus will yield unexpected results such as this. Note that the diagonal entries of $\\Lambda$ are in fact the eigenvalues of $A$, so examining these in @fig-blur_mat_eigvals can give us a sense of why the matrix is ill-conditioned."
   ]
  },
  {
   "cell_type": "code",
   "execution_count": 4,
   "metadata": {},
   "outputs": [
    {
     "data": {
      "image/png": "[encoded data removed]",
      "text/plain": [
       "<Figure size 936x576 with 1 Axes>"
      ]
     },
     "metadata": {
      "needs_background": "dark"
     },
     "output_type": "display_data"
    }
   ],
   "source": [
    "#| label: fig-blur_mat_eigvals\n",
    "#| fig-cap: The eigenvalues of $A$ in descending order.\n",
    "\n",
    "import matplotlib.pyplot as plt\n",
    "\n",
    "plt.rcParams['axes.facecolor'] = '#0F2537'\n",
    "plt.rcParams['text.color'] = 'white'\n",
    "plt.rcParams['axes.labelcolor'] = 'white'\n",
    "plt.rcParams['xtick.color'] = 'white'\n",
    "plt.rcParams['ytick.color'] = 'white'\n",
    "\n",
    "# Compute eigvalues in descending order\n",
    "eigvals = np.flip(np.asarray(sorted(lam.flatten())))\n",
    "\n",
    "# Plot\n",
    "plt.figure(figsize=(13,8))\n",
    "plt.semilogx(eigvals, color='#A5D75E')\n",
    "plt.xlabel(\"nth eigenvalue\")\n",
    "plt.ylabel(\"eigenvalue\")\n",
    "plt.show()"
   ]
  },
  {
   "cell_type": "markdown",
   "metadata": {},
   "source": [
    "The condition number of $A$ is equal to the ratio of the largest and smallest eigenvalues. The fact that the smallest eigenvalue is near zero and the largest is near one gives $A$ a very large condition number and thus $A$ is very ill-conditioned. In other words, recovering $x$ from $y$ in this manner is a very ill-posed problem."
   ]
  },
  {
   "cell_type": "markdown",
   "metadata": {},
   "source": [
    "# Regularized Inversion\n",
    "\n",
    "In the case that our blurred image contains any amount of noise, we clearly cannot settle for simply computing $x = A^{-1} y$. One way to tackle this problem is to instead look for the solution of\n",
    "$$\n",
    "x^\\star = \\text{argmin}_x \\,\\, \\| A x - y \\|_2^2 + \\mathcal{R}(x)\n",
    "$$ {#eq-regularized_sol}\n",
    "for some regularization term $\\mathcal{R}(x)$. Ignoring $\\mathcal{R}(x)$, note that if we found an $x$ such that $A x = y$ then the objective would be equal to zero and $x = x^\\star$. However, we have already seen that this solution would do us no good. This explains the role of $\\mathcal{R}(x)$: to make the problem less ill-posed, i.e. well-posed. For now we will consider the choice\n",
    "$$\n",
    "\\mathcal{R}(x) = \\gamma \\| L x \\|_2^2 = \\gamma x^T L^T L x.\n",
    "$$\n",
    "where $L$ encodes a discrete negative-Laplacian operator. This regularization term promotes smooth solutions for the reconstructed image $x$, and the degree of this smoothness is controlled by the parameter $\\gamma > 0$. For convenience, we will define the discrete gradient $L$ to use periodic boundary conditions which similarly to our blurring matrix will make $L$ a BCCB matrix that can be diagonalized by the discrete Fourier transform as\n",
    "$$\n",
    "L = F^H \\Pi F\n",
    "$$\n",
    "for some diagonal matrix $\\Pi$.\n",
    "\n",
    "Note that with this choice of $\\mathcal{R}(x)$, if we set the gradient of the objective function in (@eq-regularized_sol) equal to zero we obtain the equation\n",
    "$$\n",
    "2 A^T(Ax - y) + 2 \\gamma L^T L x = 0\n",
    "$$\n",
    "for the minimizer, which is solved by\n",
    "$$\n",
    "x = \\left( A^T A + \\gamma L^T L \\right)^{-1} A^T y\n",
    "$$\n",
    "This is where our choice of BCCB matrices throughout will pay off. While it looks like we will need to solve a sparse linear system, we can actually compute the solution using only FFTs and elementwise operations thanks for our diagonalization. Inserting $A = F^H \\Lambda F$ and $L = F^H \\Pi F$, we have\n",
    "$$\n",
    "\\begin{align*}\n",
    "x &= \\left( A^T A + \\gamma L^T L \\right)^{-1} A^T y \\\\\n",
    "&= \\left( F^H \\Lambda F F^H \\Lambda F + \\gamma F^H \\Pi F F^H \\Pi F \\right)^{-1} F^H \\Lambda F y \\\\\n",
    "&= \\left( F^H \\Lambda^2 F + \\gamma F^H \\Pi^2 F \\right)^{-1} F^H \\Lambda F y \\\\\n",
    "&= \\left( F^H \\left( \\Lambda^2 + \\gamma \\Pi^2  \\right) F \\right)^{-1} F^H \\Lambda F y \\\\\n",
    "&= F^H \\left( \\Lambda^2 + \\gamma \\Pi^2  \\right)^{-1} F F^H \\Lambda F y \\\\\n",
    "&= F^H \\left( \\Lambda^2 + \\gamma \\Pi^2  \\right)^{-1} \\Lambda F y.\n",
    "\\end{align*}\n",
    "$$\n",
    "Note that the only matrix inverse remaining is that of a diagonal matrix, so we can easily compute the solution. Let's try this out."
   ]
  },
  {
   "cell_type": "code",
   "execution_count": 49,
   "metadata": {},
   "outputs": [],
   "source": [
    "%%capture\n",
    "\n",
    "import scipy.sparse as sp\n",
    "\n",
    "# First we need to construct our L matrix\n",
    "\n",
    "# Construct our L matrix\n",
    "d_mat_vert = sp.eye(N)\n",
    "d_mat_vert.setdiag(-1,k=-1)\n",
    "d_mat_vert = sp.csc_matrix(d_mat_vert)\n",
    "d_mat_vert[0,-1] = -1 # For periodic BCs\n",
    "eye_horiz = sp.eye(M)\n",
    "d_mat_one = sp.kron(eye_horiz, d_mat_vert)\n",
    "\n",
    "d_mat_horiz = sp.eye(M)\n",
    "d_mat_horiz.setdiag(-1,k=-1)\n",
    "d_mat_horiz = sp.csc_matrix(d_mat_horiz)\n",
    "d_mat_horiz[0,-1] = -1 # For periodic BCs\n",
    "eye_vert = sp.eye(N)\n",
    "d_mat_two = sp.kron(d_mat_horiz, eye_vert)\n",
    "\n",
    "d_mat = sp.vstack([d_mat_one, d_mat_two])\n",
    "L_mat = d_mat.T @ d_mat\n",
    "\n",
    "# Next, we need to compute $\\Pi$ like we did earlier with $\\Lambda$.\n",
    "rand_img = np.random.randn(M,N)\n",
    "mat_prod_rand_img = np.fft.fft2( (L_mat @ np.fft.ifft2(rand_img, norm='ortho').flatten() ).reshape((M,N)), norm='ortho')\n",
    "pi = mat_prod_rand_img/rand_img\n",
    "pi = np.real(pi) # We know it should be real\n",
    "pi_inv = 1/pi\n",
    "\n",
    "# Now compute the regularized solution\n",
    "gamma = 1/M\n",
    "\n",
    "soln = np.fft.fft2(noisy_blurred_img, norm='ortho')\n",
    "soln *= lam\n",
    "soln *= 1/( (lam**2) + (gamma*(pi**2)) )\n",
    "soln = np.fft.ifft2(soln, norm='ortho')\n",
    "soln = np.real(soln)\n",
    "\n",
    "# Save the solution\n",
    "im = Image.fromarray(255*soln)\n",
    "im = im.convert('RGB')\n",
    "im.save(\"regularized_deblurred_grand_canyon.jpg\")"
   ]
  },
  {
   "cell_type": "markdown",
   "metadata": {},
   "source": [
    "![](regularized_deblurred_grand_canyon.jpg)"
   ]
  },
  {
   "cell_type": "markdown",
   "metadata": {},
   "source": [
    "This is much better than what we got by instead computing $x = A^{-1} y$. In the next post, we'll use [`CuPy`](https://cupy.dev/) to approach this same problem but with a different form of the regularizer $\\mathcal{R}(x)$."
   ]
  }
 ],
 "metadata": {
  "kernelspec": {
   "display_name": "Python 3.8.13 ('quarto')",
   "language": "python",
   "name": "python3"
  },
  "language_info": {
   "codemirror_mode": {
    "name": "ipython",
    "version": 3
   },
   "file_extension": ".py",
   "mimetype": "text/x-python",
   "name": "python",
   "nbconvert_exporter": "python",
   "pygments_lexer": "ipython3",
   "version": "3.8.13"
  },
  "orig_nbformat": 4,
  "vscode": {
   "interpreter": {
    "hash": "438a04a772f2aa2bb27a21d03b1b248c801ecadee1108c48b2389b52ed6b9e9c"
   }
  }
 },
 "nbformat": 4,
 "nbformat_minor": 2
}
