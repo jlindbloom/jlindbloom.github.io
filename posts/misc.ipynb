{
 "cells": [
  {
   "cell_type": "code",
   "execution_count": null,
   "metadata": {},
   "outputs": [],
   "source": [
    "M, N = 10, 12\n",
    "M, N = 3, 3\n",
    "sigma = 2.0\n",
    "\n",
    "# Extract blurring matrix\n",
    "eye = np.eye(M*N, M*N)\n",
    "bmat = np.zeros((M*N,M*N))\n",
    "\n",
    "for j in range(M*N):\n",
    "    bmat[j,:] = gaussian_filter(eye[j,:].reshape((M,N)), sigma, mode='wrap').flatten()\n",
    "\n",
    "plt.imshow(bmat)\n",
    "plt.show()"
   ]
  },
  {
   "cell_type": "code",
   "execution_count": null,
   "metadata": {},
   "outputs": [],
   "source": [
    "# Check that the matrix is diagonalized by the DFT\n",
    "m1 = spy.linalg.dft(M, scale='sqrtn')\n",
    "m2 = spy.linalg.dft(N, scale='sqrtn')\n",
    "dftmtx = np.kron(m1, m2)\n",
    "idftmtx = dftmtx.conj().T\n",
    "D = dftmtx @ bmat @ idftmtx\n",
    "print(np.linalg.norm(D - np.diag(np.diag(D))))\n",
    "plt.imshow(np.real(D))\n",
    "plt.show()"
   ]
  },
  {
   "cell_type": "code",
   "execution_count": null,
   "metadata": {},
   "outputs": [],
   "source": [
    "# Next, we need to compute $\\Pi$ like we did earlier with $\\Lambda$.\n",
    "rand_img = np.random.randn(M,N)\n",
    "mat_prod_rand_img = np.fft.fft2( ( L_mat @ np.fft.ifft2(rand_img, norm='ortho').flatten() ).reshape((M,N)), norm='ortho')\n",
    "pi = mat_prod_rand_img/rand_img\n",
    "pi = np.real(pi) # We know it should be real\n",
    "pi_inv = 1/pi\n",
    "print(pi)"
   ]
  },
  {
   "cell_type": "code",
   "execution_count": null,
   "metadata": {},
   "outputs": [],
   "source": [
    "# Next, we need to compute $\\Pi$ like we did earlier with $\\Lambda$.\n",
    "rand_img = np.random.randn(M,N)\n",
    "mat_prod_rand_img = np.fft.fft2( blur_op ( np.fft.ifft2(rand_img, norm='ortho').flatten() ).reshape((M,N)), norm='ortho')\n",
    "pi = mat_prod_rand_img/rand_img\n",
    "pi = np.real(pi) # We know it should be real\n",
    "pi_inv = 1/pi\n",
    "print(pi)"
   ]
  },
  {
   "cell_type": "code",
   "execution_count": null,
   "metadata": {},
   "outputs": [],
   "source": [
    "# Check that dftmtx and fft2 give same result when acting on vectors\n",
    "r = np.random.randn(M,N)\n",
    "r1 = ( dftmtx @ r.flatten() ).reshape((M,N))\n",
    "r2 = np.fft.fft2(r, norm='ortho')\n",
    "np.linalg.norm(r1 - r2)"
   ]
  },
  {
   "cell_type": "code",
   "execution_count": null,
   "metadata": {},
   "outputs": [],
   "source": [
    "# Fourthly, we can build the sparse differencing matrix for the prior\n",
    "N1, M1 = 5, 5\n",
    "\n",
    "d_mat_vert = sp.eye(M1)\n",
    "d_mat_vert.setdiag(-1,k=-1)\n",
    "d_mat_vert = sp.csc_matrix(d_mat_vert)\n",
    "d_mat_vert[0,-1] = -1\n",
    "eye_horiz = sp.eye(N1)\n",
    "d_mat_one = sp.kron(eye_horiz, d_mat_vert)\n",
    "\n",
    "d_mat_horiz = sp.eye(N1)\n",
    "d_mat_horiz.setdiag(-1,k=-1)\n",
    "d_mat_horiz = sp.csc_matrix(d_mat_horiz)\n",
    "d_mat_horiz[0,-1] = -1\n",
    "eye_vert = sp.eye(M1)\n",
    "d_mat_two = sp.kron(d_mat_horiz, eye_vert)\n",
    "\n",
    "d_mat = sp.vstack([d_mat_one, d_mat_two])\n",
    "\n",
    "prec_mat = d_mat.T @ d_mat"
   ]
  },
  {
   "cell_type": "code",
   "execution_count": null,
   "metadata": {},
   "outputs": [],
   "source": [
    "# Check that the matrix is diagonalized by the DFT\n",
    "m1 = spy.linalg.dft(M1, scale='sqrtn')\n",
    "m2 = spy.linalg.dft(N1, scale='sqrtn')\n",
    "dftmtx = np.kron(m1, m2)\n",
    "idftmtx = dftmtx.conj().T\n",
    "D = dftmtx @ prec_mat @ idftmtx\n",
    "print(np.linalg.norm(D - np.diag(np.diag(D))))\n",
    "plt.imshow(np.real(D))\n",
    "plt.show()"
   ]
  }
 ],
 "metadata": {
  "language_info": {
   "name": "python"
  },
  "orig_nbformat": 4
 },
 "nbformat": 4,
 "nbformat_minor": 2
}
