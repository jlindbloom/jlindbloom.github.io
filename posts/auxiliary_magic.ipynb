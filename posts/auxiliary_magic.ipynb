{
 "cells": [
  {
   "cell_type": "markdown",
   "metadata": {},
   "source": [
    "---\n",
    "title: Auxiliary Magic\n",
    "description: Hierarchical regularization via a trick.\n",
    "date: 7/7/2022\n",
    "draft: true\n",
    "bibliography: references.bib\n",
    "csl: annals_statistics.csl\n",
    "format:\n",
    "  html:\n",
    "    code-fold: true\n",
    "---"
   ]
  },
  {
   "cell_type": "code",
   "execution_count": 1,
   "metadata": {},
   "outputs": [],
   "source": [
    "import numpy as np"
   ]
  },
  {
   "cell_type": "code",
   "execution_count": 8,
   "metadata": {},
   "outputs": [],
   "source": [
    "M, N = 3000, 4000"
   ]
  },
  {
   "cell_type": "code",
   "execution_count": 9,
   "metadata": {},
   "outputs": [],
   "source": [
    "# Draw a random image\n",
    "rand_img = np.random.randn(M,N)\n",
    "for j in range(100):\n",
    "    mat_prod_rand_img = np.fft.fft2(rand_img, norm='ortho')"
   ]
  },
  {
   "cell_type": "code",
   "execution_count": null,
   "metadata": {},
   "outputs": [],
   "source": []
  }
 ],
 "metadata": {
  "kernelspec": {
   "display_name": "Python 3.8.13 ('quarto')",
   "language": "python",
   "name": "python3"
  },
  "language_info": {
   "codemirror_mode": {
    "name": "ipython",
    "version": 3
   },
   "file_extension": ".py",
   "mimetype": "text/x-python",
   "name": "python",
   "nbconvert_exporter": "python",
   "pygments_lexer": "ipython3",
   "version": "3.8.13"
  },
  "orig_nbformat": 4,
  "vscode": {
   "interpreter": {
    "hash": "438a04a772f2aa2bb27a21d03b1b248c801ecadee1108c48b2389b52ed6b9e9c"
   }
  }
 },
 "nbformat": 4,
 "nbformat_minor": 2
}
