{
  "cells": [
    {
      "cell_type": "raw",
      "metadata": {},
      "source": [
        "---\n",
        "title: Software\n",
        "echo: false\n",
        "section-divs: false\n",
        "keep-md: true\n",
        "---"
      ],
      "id": "8e85b3ff"
    },
    {
      "cell_type": "markdown",
      "metadata": {},
      "source": [
        "Here is a list of links to some miscellaneous Python packages I have developed (or are still developing).\n",
        "\n",
        "\n",
        "### [gpcg](https://pypi.org/project/gpcg/)\n",
        "An implementation of a conjugate gradient algorithm (GPCG) for solving bound-constrained quadratic programs.\n",
        "\n",
        "### [tracelogdetdiag](https://pypi.org/project/tracelogdetdiag/)\n",
        "Some implementations of randomized, matrix-free algorithms for estimating matrix traces, log determinants, diagonals, and diagonals of inverses.\n",
        "\n",
        "### [rjpo](https://pypi.org/project/rjpo/)\n",
        "An implementation of a reversible jump perturbation optimization (RJPO) method for sampling high-dimensional Gaussians.\n",
        "\n",
        "### [runningstatistics](https://pypi.org/project/runningstatistics/0.0.1/)\n",
        "A simple module for computing the sample statistics of an array in a running/online fashion.\n",
        "\n",
        "### [gsvdm2py](https://pypi.org/project/gsvdm2py/0.0.1/)\n",
        "A Python wrapper for MATLAB's gsvd function (generalized singular value decomposition).\n"
      ],
      "id": "bd6eeb78"
    }
  ],
  "metadata": {
    "kernelspec": {
      "name": "python3",
      "language": "python",
      "display_name": "Python 3 (ipykernel)"
    }
  },
  "nbformat": 4,
  "nbformat_minor": 5
}